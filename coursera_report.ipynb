{
  "nbformat": 4,
  "nbformat_minor": 0,
  "metadata": {
    "colab": {
      "name": "coursera_report.ipynb",
      "provenance": [],
      "authorship_tag": "ABX9TyP++fnUoOijEmWHjsC+jR97",
      "include_colab_link": true
    },
    "kernelspec": {
      "name": "python3",
      "display_name": "Python 3"
    }
  },
  "cells": [
    {
      "cell_type": "markdown",
      "metadata": {
        "id": "view-in-github",
        "colab_type": "text"
      },
      "source": [
        "<a href=\"https://colab.research.google.com/github/peteryoung0914/Getting-and-Cleaning-Data-Assignment/blob/master/coursera_report.ipynb\" target=\"_parent\"><img src=\"https://colab.research.google.com/assets/colab-badge.svg\" alt=\"Open In Colab\"/></a>"
      ]
    },
    {
      "cell_type": "markdown",
      "metadata": {
        "id": "gukEET0fgVGF",
        "colab_type": "text"
      },
      "source": [
        "## Introduction/Business Problem"
      ]
    },
    {
      "cell_type": "markdown",
      "metadata": {
        "id": "v0DWfeMFgJaL",
        "colab_type": "text"
      },
      "source": [
        "The idea of this study is to help people planning to open a new restaurant in Toronto to chose the right location by providing data about the income and population of each neighborhood as well as the competitors already present on the same regions."
      ]
    },
    {
      "cell_type": "markdown",
      "metadata": {
        "id": "hU48f2HigaAB",
        "colab_type": "text"
      },
      "source": [
        "## Downloading and Prepping Data"
      ]
    },
    {
      "cell_type": "markdown",
      "metadata": {
        "id": "a-pZl5AAgfvD",
        "colab_type": "text"
      },
      "source": [
        "To provide the stakeholders the necessary information I'll be combining Toronto's 2016 Census that contains Population, Average income per Neighborhood with Toronot's Neighborhoods shapefile and Foursquare API to collect competitors on the same neighborhoods.\n",
        "\n",
        "Toronto's Census data is publicly available at this website: https://www.toronto.ca/city-government/data-research-maps/open-data/open-data-catalogue/#8c732154-5012-9afe-d0cd-ba3ffc813d5a\n",
        "\n",
        "Toronto Neighborhoods' shapefile is publicly available at this website: https://www.toronto.ca/city-government/data-research-maps/open-data/open-data-catalogue/#a45bd45a-ede8-730e-1abc-93105b2c439f"
      ]
    },
    {
      "cell_type": "markdown",
      "metadata": {
        "id": "pF5WmV9Pgi1X",
        "colab_type": "text"
      },
      "source": [
        "## Methodology"
      ]
    },
    {
      "cell_type": "markdown",
      "metadata": {
        "id": "Or5JtOo_guI3",
        "colab_type": "text"
      },
      "source": [
        "For this report I used a few different maps that could help a new investor to decide the best neighborhood to open a restaurant in Toronto based on it's income, population and available competitors. In order to do that I've used the 2016 Census information combined with choropleth maps to visually display the wealthier and more populational neighborhoods and Foursquare data to display the current restaurants in each region."
      ]
    },
    {
      "cell_type": "markdown",
      "metadata": {
        "id": "QY7hY6pxg80n",
        "colab_type": "text"
      },
      "source": [
        "## Results"
      ]
    },
    {
      "cell_type": "markdown",
      "metadata": {
        "id": "Z3DSglrThBJr",
        "colab_type": "text"
      },
      "source": [
        "Comparing the maps we can notice the majority of the restaurants grouped on main streets and on the south of the city, although some of the welthiest neighborhoods are up to the north. Also, the areas with a dense population don't reflect on the number of restaurants."
      ]
    },
    {
      "cell_type": "markdown",
      "metadata": {
        "id": "5Mxh8ey_hDqx",
        "colab_type": "text"
      },
      "source": [
        "## Discussion"
      ]
    },
    {
      "cell_type": "markdown",
      "metadata": {
        "id": "ZIcNRWTzhHFN",
        "colab_type": "text"
      },
      "source": [
        "When I first decided to create this study I was expecting to find clusters of restaurants in certain regions and the final result didn't meet that expectation."
      ]
    },
    {
      "cell_type": "markdown",
      "metadata": {
        "id": "4IoYmLmHhKMy",
        "colab_type": "text"
      },
      "source": [
        "## Conclusion"
      ]
    },
    {
      "cell_type": "markdown",
      "metadata": {
        "id": "R3_5tNFxhMHw",
        "colab_type": "text"
      },
      "source": [
        "This report may be helpful for someone planning on opening a restaurant in Toronto, by comparing the current offers and neighborhoods profiles, however it may not cover all variables such as access to public transportation or even the restaurants profiles, so it shall not be used as a single decidion making tool."
      ]
    },
    {
      "cell_type": "code",
      "metadata": {
        "id": "JRk-RiL_g-Hp",
        "colab_type": "code",
        "colab": {}
      },
      "source": [
        ""
      ],
      "execution_count": null,
      "outputs": []
    }
  ]
}